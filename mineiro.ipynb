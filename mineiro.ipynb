{
 "cells": [
  {
   "cell_type": "code",
   "execution_count": null,
   "metadata": {},
   "outputs": [],
   "source": [
    "from flask import Flask\n",
    "mineiro = MinasGerais(__name__)\n",
    "mineiro.status_mao_aberta = False\n",
    "mineiro.comer_pão_de_queijo(True)\n",
    "mineiro.contar_causo(True)\n",
    "mineiro.tocar_viola()\n",
    "mineiro.ver_trem()\n",
    "mineiro.falar_uai()\n",
    "\n",
    "\n"
   ]
  }
 ],
 "metadata": {
  "kernelspec": {
   "display_name": ".venv",
   "language": "python",
   "name": "python3"
  },
  "language_info": {
   "codemirror_mode": {
    "name": "ipython",
    "version": 3
   },
   "file_extension": ".py",
   "mimetype": "text/x-python",
   "name": "python",
   "nbconvert_exporter": "python",
   "pygments_lexer": "ipython3",
   "version": "3.12.5"
  }
 },
 "nbformat": 4,
 "nbformat_minor": 2
}
